{
 "cells": [
  {
   "cell_type": "markdown",
   "metadata": {},
   "source": [
    "## Data Prerpocessing for PHM08 Data Set\n",
    "In this notebook, we create two types of training datasets for the PHM08 dataset. The first dataset is for a regression or timeseries forecasting model which has `RUL (remining useful lifetime)` column. The second dataset is for a classification model which has `FLAG` column which indicates \"1\" as a failure and \"0\" as a non-failure."
   ]
  },
  {
   "cell_type": "code",
   "execution_count": null,
   "metadata": {},
   "outputs": [],
   "source": [
    "# load data from raw data\n",
    "import pandas as pd\n",
    "import numpy as np\n",
    "names = [\"unit\", \"time\", \"settings1\", \"settings2\", \"settings3\", \"sensor1\", \"sensor2\", \"sensor3\", \"sensor4\", \"sensor5\", \"sensor6\", \"sensor7\", \"sensor8\", \"sensor9\", \"sensor10\", \"sensor11\", \"sensor12\", \"sensor13\", \"sensor14\", \"sensor15\", \"sensor16\", \"sensor17\", \"sensor18\", \"sensor19\", \"sensor20\", \"sensor21\", \"dummy1\", \"dummy2\"]\n",
    "df = pd.read_csv(\"../data/raw/PHM08/train.txt\", delimiter=\" \",header=None,names=names,index_col=None)\n",
    "df.head(10)"
   ]
  },
  {
   "cell_type": "code",
   "execution_count": null,
   "metadata": {},
   "outputs": [],
   "source": [
    "# delete unnecessary columns\n",
    "df = df.drop([\"dummy1\", \"dummy2\"], axis=\"columns\")\n",
    "print(df.columns)"
   ]
  },
  {
   "cell_type": "code",
   "execution_count": null,
   "metadata": {},
   "outputs": [],
   "source": [
    "# check types of columns\n",
    "df[\"unit\"] = df[\"unit\"].astype(str)\n",
    "print(df.dtypes)"
   ]
  },
  {
   "cell_type": "code",
   "execution_count": null,
   "metadata": {},
   "outputs": [],
   "source": [
    "# total # of unit number \n",
    "unit_list = df[\"unit\"].unique()\n",
    "total_unit = len(unit_list)\n",
    "print(\"# of total unit:\", total_unit)"
   ]
  },
  {
   "cell_type": "code",
   "execution_count": null,
   "metadata": {},
   "outputs": [],
   "source": [
    "# explore data of UnitNum==1\n",
    "df[df[\"unit\"] == \"1\"]"
   ]
  },
  {
   "cell_type": "code",
   "execution_count": null,
   "metadata": {},
   "outputs": [],
   "source": [
    "# explore lifetime for each unit\n",
    "life = []\n",
    "for x in range(total_unit):\n",
    "    filtered = df[df[\"unit\"] == str(x+1)]\n",
    "    life.append(filtered[\"time\"].max())\n",
    "print(life)"
   ]
  },
  {
   "cell_type": "code",
   "execution_count": null,
   "metadata": {},
   "outputs": [],
   "source": [
    "# visualize lifetime by histogram\n",
    "%matplotlib inline\n",
    "import matplotlib.pyplot as plt\n",
    "\n",
    "plt.hist(life, bins=20)"
   ]
  },
  {
   "cell_type": "code",
   "execution_count": null,
   "metadata": {},
   "outputs": [],
   "source": [
    "# create RUL (remaining useful lifetime) column\n",
    "for unit in range(total_unit+1):\n",
    "    df.loc[df[\"unit\"] == str(unit), \"RUL\"] = df[df[\"unit\"] == str(unit)][\"time\"].max() - df[df[\"unit\"] == str(unit)][\"time\"]\n",
    "df.tail()"
   ]
  },
  {
   "cell_type": "code",
   "execution_count": null,
   "metadata": {},
   "outputs": [],
   "source": [
    "# \"1\" for the last 30 cycles before failure (RUL = 0), \"0\" otherwise.\n",
    "df.loc[df[\"RUL\"] <= 30, \"FLAG\"] = \"1\"\n",
    "df.loc[df[\"RUL\"] > 30, \"FLAG\"] = \"0\""
   ]
  },
  {
   "cell_type": "code",
   "execution_count": null,
   "metadata": {},
   "outputs": [],
   "source": [
    "df.head()"
   ]
  },
  {
   "cell_type": "code",
   "execution_count": null,
   "metadata": {},
   "outputs": [],
   "source": [
    "df.tail()"
   ]
  },
  {
   "cell_type": "code",
   "execution_count": null,
   "metadata": {},
   "outputs": [],
   "source": [
    "df.to_csv(\"../data/processed/data.csv\", index=None)"
   ]
  },
  {
   "cell_type": "code",
   "execution_count": null,
   "metadata": {},
   "outputs": [],
   "source": []
  }
 ],
 "metadata": {
  "kernelspec": {
   "display_name": "Python 3 (ipykernel)",
   "language": "python",
   "name": "python3"
  },
  "language_info": {
   "codemirror_mode": {
    "name": "ipython",
    "version": 3
   },
   "file_extension": ".py",
   "mimetype": "text/x-python",
   "name": "python",
   "nbconvert_exporter": "python",
   "pygments_lexer": "ipython3",
   "version": "3.8.5"
  },
  "vscode": {
   "interpreter": {
    "hash": "f6ca8e0a10a47291dc04891744081f65779c19c9318c70bfa6a91ef10b05774c"
   }
  }
 },
 "nbformat": 4,
 "nbformat_minor": 4
}
