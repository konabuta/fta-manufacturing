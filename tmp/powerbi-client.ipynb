{
 "cells": [
  {
   "cell_type": "code",
   "execution_count": 8,
   "id": "0a709fb3-5f45-4021-8265-a0641ea58dfa",
   "metadata": {},
   "outputs": [],
   "source": [
    "from powerbiclient.authentication import InteractiveLoginAuthentication, DeviceCodeLoginAuthentication\n",
    "from powerbiclient import Report, models\n",
    "from io import StringIO\n",
    "from ipywidgets import interact\n",
    "import requests\n",
    "import pandas as pd\n",
    "import matplotlib"
   ]
  },
  {
   "cell_type": "code",
   "execution_count": null,
   "id": "9127e432-6332-46ff-863f-dfc0a5eb9e11",
   "metadata": {},
   "outputs": [
    {
     "name": "stderr",
     "output_type": "stream",
     "text": [
      "Found no browser in current environment. If this program is being run inside a container which has access to host network (i.e. started by `docker run --net=host -it ...`), you can use browser on host to visit the following link. Otherwise, this auth attempt would either timeout (current timeout setting is None) or be aborted by CTRL+C. Auth URI: https://login.microsoftonline.com/common/oauth2/v2.0/authorize?client_id=23d8f6bd-1eb0-4cc2-a08c-7bf525c67bcd&response_type=code&redirect_uri=http%3A%2F%2Flocalhost%3A39923&scope=https%3A%2F%2Fanalysis.windows.net%2Fpowerbi%2Fapi%2F.default+offline_access+openid+profile&state=yAZfcUxRdYThKHiD&code_challenge=ELch5_D0ti6VuybhK7BvWCGdwcWF5xrMSELGl-cmhUY&code_challenge_method=S256&nonce=0273c9c38c24731ecbf58f30c28f9f0931612edbe6f745d0885d5e5f882e1f91&client_info=1\n"
     ]
    },
    {
     "name": "stdout",
     "output_type": "stream",
     "text": [
      "A local browser window will open for interactive sign in.\n"
     ]
    }
   ],
   "source": [
    "auth = InteractiveLoginAuthentication()\n",
    "token_with_device_code = auth.get_access_token()"
   ]
  },
  {
   "cell_type": "code",
   "execution_count": null,
   "id": "5866dc4c-569f-4cee-ae09-e415c21776d7",
   "metadata": {},
   "outputs": [],
   "source": []
  }
 ],
 "metadata": {
  "kernelspec": {
   "display_name": "powerbi-env",
   "language": "python",
   "name": "powerbi-env"
  },
  "language_info": {
   "codemirror_mode": {
    "name": "ipython",
    "version": 3
   },
   "file_extension": ".py",
   "mimetype": "text/x-python",
   "name": "python",
   "nbconvert_exporter": "python",
   "pygments_lexer": "ipython3",
   "version": "3.9.16"
  }
 },
 "nbformat": 4,
 "nbformat_minor": 5
}
