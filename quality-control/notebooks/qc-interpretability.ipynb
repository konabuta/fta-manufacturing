{
 "cells": [
  {
   "cell_type": "code",
   "execution_count": 1,
   "metadata": {},
   "outputs": [],
   "source": [
    "import pandas as pd\n",
    "\n",
    "from sklearn.model_selection import train_test_split\n",
    "from sklearn.ensemble import RandomForestClassifier"
   ]
  },
  {
   "cell_type": "code",
   "execution_count": 2,
   "metadata": {},
   "outputs": [
    {
     "data": {
      "text/html": [
       "<div>\n",
       "<style scoped>\n",
       "    .dataframe tbody tr th:only-of-type {\n",
       "        vertical-align: middle;\n",
       "    }\n",
       "\n",
       "    .dataframe tbody tr th {\n",
       "        vertical-align: top;\n",
       "    }\n",
       "\n",
       "    .dataframe thead th {\n",
       "        text-align: right;\n",
       "    }\n",
       "</style>\n",
       "<table border=\"1\" class=\"dataframe\">\n",
       "  <thead>\n",
       "    <tr style=\"text-align: right;\">\n",
       "      <th></th>\n",
       "      <th>ID</th>\n",
       "      <th>Quality</th>\n",
       "      <th>ProcessA-Pressure</th>\n",
       "      <th>ProcessA-Humidity</th>\n",
       "      <th>ProcessA-Vibration</th>\n",
       "      <th>ProcessB-Light</th>\n",
       "      <th>ProcessB-Skill</th>\n",
       "      <th>ProcessB-Temp</th>\n",
       "      <th>ProcessB-Rotation</th>\n",
       "      <th>ProcessC-Density</th>\n",
       "      <th>ProcessC-PH</th>\n",
       "      <th>ProcessC-skewness</th>\n",
       "      <th>ProcessC-Time</th>\n",
       "    </tr>\n",
       "  </thead>\n",
       "  <tbody>\n",
       "    <tr>\n",
       "      <th>0</th>\n",
       "      <td>1</td>\n",
       "      <td>0</td>\n",
       "      <td>7.0</td>\n",
       "      <td>0.27</td>\n",
       "      <td>0.36</td>\n",
       "      <td>20.7</td>\n",
       "      <td>0.045</td>\n",
       "      <td>45.0</td>\n",
       "      <td>170.0</td>\n",
       "      <td>1.0010</td>\n",
       "      <td>3.00</td>\n",
       "      <td>0.45</td>\n",
       "      <td>8.8</td>\n",
       "    </tr>\n",
       "    <tr>\n",
       "      <th>1</th>\n",
       "      <td>2</td>\n",
       "      <td>0</td>\n",
       "      <td>6.3</td>\n",
       "      <td>0.30</td>\n",
       "      <td>0.34</td>\n",
       "      <td>1.6</td>\n",
       "      <td>0.049</td>\n",
       "      <td>14.0</td>\n",
       "      <td>132.0</td>\n",
       "      <td>0.9940</td>\n",
       "      <td>3.30</td>\n",
       "      <td>0.49</td>\n",
       "      <td>9.5</td>\n",
       "    </tr>\n",
       "    <tr>\n",
       "      <th>2</th>\n",
       "      <td>3</td>\n",
       "      <td>0</td>\n",
       "      <td>8.1</td>\n",
       "      <td>0.28</td>\n",
       "      <td>0.40</td>\n",
       "      <td>6.9</td>\n",
       "      <td>0.050</td>\n",
       "      <td>30.0</td>\n",
       "      <td>97.0</td>\n",
       "      <td>0.9951</td>\n",
       "      <td>3.26</td>\n",
       "      <td>0.44</td>\n",
       "      <td>10.1</td>\n",
       "    </tr>\n",
       "    <tr>\n",
       "      <th>3</th>\n",
       "      <td>4</td>\n",
       "      <td>0</td>\n",
       "      <td>7.2</td>\n",
       "      <td>0.23</td>\n",
       "      <td>0.32</td>\n",
       "      <td>8.5</td>\n",
       "      <td>0.058</td>\n",
       "      <td>47.0</td>\n",
       "      <td>186.0</td>\n",
       "      <td>0.9956</td>\n",
       "      <td>3.19</td>\n",
       "      <td>0.40</td>\n",
       "      <td>9.9</td>\n",
       "    </tr>\n",
       "    <tr>\n",
       "      <th>4</th>\n",
       "      <td>5</td>\n",
       "      <td>0</td>\n",
       "      <td>7.2</td>\n",
       "      <td>0.23</td>\n",
       "      <td>0.32</td>\n",
       "      <td>8.5</td>\n",
       "      <td>0.058</td>\n",
       "      <td>47.0</td>\n",
       "      <td>186.0</td>\n",
       "      <td>0.9956</td>\n",
       "      <td>3.19</td>\n",
       "      <td>0.40</td>\n",
       "      <td>9.9</td>\n",
       "    </tr>\n",
       "  </tbody>\n",
       "</table>\n",
       "</div>"
      ],
      "text/plain": [
       "   ID  Quality  ProcessA-Pressure  ProcessA-Humidity  ProcessA-Vibration  \\\n",
       "0   1        0                7.0               0.27                0.36   \n",
       "1   2        0                6.3               0.30                0.34   \n",
       "2   3        0                8.1               0.28                0.40   \n",
       "3   4        0                7.2               0.23                0.32   \n",
       "4   5        0                7.2               0.23                0.32   \n",
       "\n",
       "   ProcessB-Light  ProcessB-Skill  ProcessB-Temp  ProcessB-Rotation  \\\n",
       "0            20.7           0.045           45.0              170.0   \n",
       "1             1.6           0.049           14.0              132.0   \n",
       "2             6.9           0.050           30.0               97.0   \n",
       "3             8.5           0.058           47.0              186.0   \n",
       "4             8.5           0.058           47.0              186.0   \n",
       "\n",
       "   ProcessC-Density  ProcessC-PH  ProcessC-skewness  ProcessC-Time  \n",
       "0            1.0010         3.00               0.45            8.8  \n",
       "1            0.9940         3.30               0.49            9.5  \n",
       "2            0.9951         3.26               0.44           10.1  \n",
       "3            0.9956         3.19               0.40            9.9  \n",
       "4            0.9956         3.19               0.40            9.9  "
      ]
     },
     "execution_count": 2,
     "metadata": {},
     "output_type": "execute_result"
    }
   ],
   "source": [
    "df = pd.read_csv('../data/Factory.csv')\n",
    "df.head()"
   ]
  },
  {
   "cell_type": "code",
   "execution_count": 3,
   "metadata": {},
   "outputs": [],
   "source": [
    "target_feature = 'Quality'\n",
    "remove_features = ['ID']\n",
    "features = [col for col in df.columns if col != target_feature and col not in remove_features]"
   ]
  },
  {
   "cell_type": "code",
   "execution_count": 4,
   "metadata": {},
   "outputs": [],
   "source": [
    "X_train, X_test, y_train, y_test = train_test_split(df[features], df[target_feature], test_size=0.1, random_state=7)\n",
    "\n",
    "train_data = X_train.copy()\n",
    "test_data = X_test.copy()"
   ]
  },
  {
   "cell_type": "code",
   "execution_count": 5,
   "metadata": {},
   "outputs": [],
   "source": [
    "train_data[target_feature] = y_train\n",
    "test_data[target_feature] = y_test"
   ]
  },
  {
   "cell_type": "code",
   "execution_count": 6,
   "metadata": {},
   "outputs": [
    {
     "data": {
      "text/plain": [
       "RandomForestClassifier(random_state=0)"
      ]
     },
     "execution_count": 6,
     "metadata": {},
     "output_type": "execute_result"
    }
   ],
   "source": [
    "model = RandomForestClassifier(random_state=0)\n",
    "model.fit(X_train, y_train)"
   ]
  },
  {
   "cell_type": "code",
   "execution_count": 7,
   "metadata": {},
   "outputs": [
    {
     "name": "stderr",
     "output_type": "stream",
     "text": [
      "/anaconda/envs/factory-qc-blackbox/lib/python3.9/site-packages/tqdm/auto.py:21: TqdmWarning: IProgress not found. Please update jupyter and ipywidgets. See https://ipywidgets.readthedocs.io/en/stable/user_install.html\n",
      "  from .autonotebook import tqdm as notebook_tqdm\n"
     ]
    }
   ],
   "source": [
    "from raiwidgets import ResponsibleAIDashboard\n",
    "from responsibleai import RAIInsights"
   ]
  },
  {
   "cell_type": "code",
   "execution_count": 8,
   "metadata": {},
   "outputs": [],
   "source": [
    "rai_insights = RAIInsights(model, train_data, test_data, target_feature, 'classification')"
   ]
  },
  {
   "cell_type": "code",
   "execution_count": 9,
   "metadata": {},
   "outputs": [
    {
     "ename": "UserConfigValidationException",
     "evalue": "A total_CFs value of at least 10 is required to use counterfactual feature importances. Either increase total_CFs to at least 10 or set feature_importance to False.",
     "output_type": "error",
     "traceback": [
      "\u001b[0;31m---------------------------------------------------------------------------\u001b[0m",
      "\u001b[0;31mUserConfigValidationException\u001b[0m             Traceback (most recent call last)",
      "Cell \u001b[0;32mIn[9], line 6\u001b[0m\n\u001b[1;32m      4\u001b[0m rai_insights\u001b[39m.\u001b[39merror_analysis\u001b[39m.\u001b[39madd()\n\u001b[1;32m      5\u001b[0m \u001b[39m# Counterfactuals\u001b[39;00m\n\u001b[0;32m----> 6\u001b[0m rai_insights\u001b[39m.\u001b[39;49mcounterfactual\u001b[39m.\u001b[39;49madd(total_CFs\u001b[39m=\u001b[39;49m\u001b[39m5\u001b[39;49m, desired_class\u001b[39m=\u001b[39;49m\u001b[39m\"\u001b[39;49m\u001b[39mopposite\u001b[39;49m\u001b[39m\"\u001b[39;49m)\n",
      "File \u001b[0;32m/anaconda/envs/factory-qc-blackbox/lib/python3.9/site-packages/responsibleai/managers/counterfactual_manager.py:540\u001b[0m, in \u001b[0;36mCounterfactualManager.add\u001b[0;34m(self, total_CFs, method, desired_class, desired_range, permitted_range, features_to_vary, feature_importance)\u001b[0m\n\u001b[1;32m    526\u001b[0m     continuous_features \u001b[39m=\u001b[39m \u001b[39mlist\u001b[39m(\u001b[39mset\u001b[39m(\u001b[39mself\u001b[39m\u001b[39m.\u001b[39m_train\u001b[39m.\u001b[39mcolumns) \u001b[39m-\u001b[39m\n\u001b[1;32m    527\u001b[0m                                \u001b[39mset\u001b[39m([\u001b[39mself\u001b[39m\u001b[39m.\u001b[39m_target_column]) \u001b[39m-\u001b[39m\n\u001b[1;32m    528\u001b[0m                                \u001b[39mset\u001b[39m(\u001b[39mself\u001b[39m\u001b[39m.\u001b[39m_categorical_features))\n\u001b[1;32m    530\u001b[0m counterfactual_config \u001b[39m=\u001b[39m CounterfactualConfig(\n\u001b[1;32m    531\u001b[0m     method\u001b[39m=\u001b[39mmethod,\n\u001b[1;32m    532\u001b[0m     continuous_features\u001b[39m=\u001b[39mcontinuous_features,\n\u001b[0;32m   (...)\u001b[0m\n\u001b[1;32m    537\u001b[0m     features_to_vary\u001b[39m=\u001b[39mfeatures_to_vary,\n\u001b[1;32m    538\u001b[0m     feature_importance\u001b[39m=\u001b[39mfeature_importance)\n\u001b[0;32m--> 540\u001b[0m \u001b[39mself\u001b[39;49m\u001b[39m.\u001b[39;49m_add_counterfactual_config(counterfactual_config)\n",
      "File \u001b[0;32m/anaconda/envs/factory-qc-blackbox/lib/python3.9/site-packages/responsibleai/managers/counterfactual_manager.py:475\u001b[0m, in \u001b[0;36mCounterfactualManager._add_counterfactual_config\u001b[0;34m(self, new_counterfactual_config)\u001b[0m\n\u001b[1;32m    469\u001b[0m         \u001b[39mraise\u001b[39;00m UserConfigValidationException(\n\u001b[1;32m    470\u001b[0m             \u001b[39m'\u001b[39m\u001b[39mThe desired_range should not be None\u001b[39m\u001b[39m'\u001b[39m\n\u001b[1;32m    471\u001b[0m             \u001b[39m'\u001b[39m\u001b[39m for regression scenarios.\u001b[39m\u001b[39m'\u001b[39m)\n\u001b[1;32m    473\u001b[0m \u001b[39mif\u001b[39;00m new_counterfactual_config\u001b[39m.\u001b[39mfeature_importance \u001b[39mand\u001b[39;00m\\\n\u001b[1;32m    474\u001b[0m         new_counterfactual_config\u001b[39m.\u001b[39mtotal_CFs \u001b[39m<\u001b[39m \u001b[39m10\u001b[39m:\n\u001b[0;32m--> 475\u001b[0m     \u001b[39mraise\u001b[39;00m UserConfigValidationException(\n\u001b[1;32m    476\u001b[0m         \u001b[39m\"\u001b[39m\u001b[39mA total_CFs value of at least 10 is required to \u001b[39m\u001b[39m\"\u001b[39m\n\u001b[1;32m    477\u001b[0m         \u001b[39m\"\u001b[39m\u001b[39muse counterfactual feature importances. \u001b[39m\u001b[39m\"\u001b[39m\n\u001b[1;32m    478\u001b[0m         \u001b[39m\"\u001b[39m\u001b[39mEither increase total_CFs to at least 10 or \u001b[39m\u001b[39m\"\u001b[39m\n\u001b[1;32m    479\u001b[0m         \u001b[39m\"\u001b[39m\u001b[39mset feature_importance to False.\u001b[39m\u001b[39m\"\u001b[39m)\n\u001b[1;32m    481\u001b[0m is_duplicate \u001b[39m=\u001b[39m new_counterfactual_config\u001b[39m.\u001b[39mis_duplicate(\n\u001b[1;32m    482\u001b[0m     \u001b[39mself\u001b[39m\u001b[39m.\u001b[39m_counterfactual_config_list)\n\u001b[1;32m    484\u001b[0m \u001b[39mif\u001b[39;00m is_duplicate:\n",
      "\u001b[0;31mUserConfigValidationException\u001b[0m: A total_CFs value of at least 10 is required to use counterfactual feature importances. Either increase total_CFs to at least 10 or set feature_importance to False."
     ]
    }
   ],
   "source": [
    "# Interpretability\n",
    "rai_insights.explainer.add()\n",
    "# Error Analysis\n",
    "rai_insights.error_analysis.add()\n",
    "# Counterfactuals\n",
    "rai_insights.counterfactual.add(total_CFs=10, desired_class=\"opposite\")"
   ]
  },
  {
   "cell_type": "code",
   "execution_count": null,
   "metadata": {},
   "outputs": [
    {
     "ename": "KeyboardInterrupt",
     "evalue": "",
     "output_type": "error",
     "traceback": [
      "\u001b[0;31m---------------------------------------------------------------------------\u001b[0m",
      "\u001b[0;31mKeyboardInterrupt\u001b[0m                         Traceback (most recent call last)",
      "Cell \u001b[0;32mIn[11], line 1\u001b[0m\n\u001b[0;32m----> 1\u001b[0m rai_insights\u001b[39m.\u001b[39;49mcompute()\n",
      "File \u001b[0;32m/anaconda/envs/factory-qc-blackbox/lib/python3.9/site-packages/responsibleai/rai_insights/rai_base_insights.py:81\u001b[0m, in \u001b[0;36mRAIBaseInsights.compute\u001b[0;34m(self)\u001b[0m\n\u001b[1;32m     79\u001b[0m \u001b[39m\u001b[39m\u001b[39m\"\"\"Calls compute on each of the managers.\"\"\"\u001b[39;00m\n\u001b[1;32m     80\u001b[0m \u001b[39mfor\u001b[39;00m manager \u001b[39min\u001b[39;00m \u001b[39mself\u001b[39m\u001b[39m.\u001b[39m_managers:\n\u001b[0;32m---> 81\u001b[0m     manager\u001b[39m.\u001b[39;49mcompute()\n",
      "File \u001b[0;32m/anaconda/envs/factory-qc-blackbox/lib/python3.9/site-packages/responsibleai/managers/counterfactual_manager.py:565\u001b[0m, in \u001b[0;36mCounterfactualManager.compute\u001b[0;34m(self)\u001b[0m\n\u001b[1;32m    556\u001b[0m     counterfactual_obj \u001b[39m=\u001b[39m \\\n\u001b[1;32m    557\u001b[0m         cf_config\u001b[39m.\u001b[39mexplainer\u001b[39m.\u001b[39mgenerate_counterfactuals(\n\u001b[1;32m    558\u001b[0m             X_test, total_CFs\u001b[39m=\u001b[39mcf_config\u001b[39m.\u001b[39mtotal_CFs,\n\u001b[0;32m   (...)\u001b[0m\n\u001b[1;32m    561\u001b[0m             features_to_vary\u001b[39m=\u001b[39mcf_config\u001b[39m.\u001b[39mfeatures_to_vary,\n\u001b[1;32m    562\u001b[0m             permitted_range\u001b[39m=\u001b[39mcf_config\u001b[39m.\u001b[39mpermitted_range)\n\u001b[1;32m    563\u001b[0m \u001b[39melse\u001b[39;00m:\n\u001b[1;32m    564\u001b[0m     counterfactual_obj \u001b[39m=\u001b[39m \\\n\u001b[0;32m--> 565\u001b[0m         cf_config\u001b[39m.\u001b[39;49mexplainer\u001b[39m.\u001b[39;49mglobal_feature_importance(\n\u001b[1;32m    566\u001b[0m             X_test,\n\u001b[1;32m    567\u001b[0m             total_CFs\u001b[39m=\u001b[39;49mcf_config\u001b[39m.\u001b[39;49mtotal_CFs,\n\u001b[1;32m    568\u001b[0m             desired_class\u001b[39m=\u001b[39;49mcf_config\u001b[39m.\u001b[39;49mdesired_class,\n\u001b[1;32m    569\u001b[0m             desired_range\u001b[39m=\u001b[39;49mcf_config\u001b[39m.\u001b[39;49mdesired_range,\n\u001b[1;32m    570\u001b[0m             features_to_vary\u001b[39m=\u001b[39;49mcf_config\u001b[39m.\u001b[39;49mfeatures_to_vary,\n\u001b[1;32m    571\u001b[0m             permitted_range\u001b[39m=\u001b[39;49mcf_config\u001b[39m.\u001b[39;49mpermitted_range)\n\u001b[1;32m    573\u001b[0m \u001b[39m# Validate the serialized output against schema\u001b[39;00m\n\u001b[1;32m    574\u001b[0m schema \u001b[39m=\u001b[39m CounterfactualManager\u001b[39m.\u001b[39m_get_counterfactual_schema(\n\u001b[1;32m    575\u001b[0m     version\u001b[39m=\u001b[39mcounterfactual_obj\u001b[39m.\u001b[39mmetadata[\u001b[39m'\u001b[39m\u001b[39mversion\u001b[39m\u001b[39m'\u001b[39m])\n",
      "File \u001b[0;32m/anaconda/envs/factory-qc-blackbox/lib/python3.9/site-packages/dice_ml/explainer_interfaces/explainer_base.py:361\u001b[0m, in \u001b[0;36mExplainerBase.global_feature_importance\u001b[0;34m(self, query_instances, cf_examples_list, total_CFs, local_importance, desired_class, desired_range, permitted_range, features_to_vary, stopping_threshold, posthoc_sparsity_param, posthoc_sparsity_algorithm, **kwargs)\u001b[0m\n\u001b[1;32m    356\u001b[0m \u001b[39melif\u001b[39;00m total_CFs \u001b[39m<\u001b[39m \u001b[39m10\u001b[39m:\n\u001b[1;32m    357\u001b[0m     \u001b[39mraise\u001b[39;00m UserConfigValidationException(\n\u001b[1;32m    358\u001b[0m         \u001b[39m\"\u001b[39m\u001b[39mThe number of counterfactuals requested per query instance should be greater \u001b[39m\u001b[39m\"\u001b[39m\n\u001b[1;32m    359\u001b[0m         \u001b[39m\"\u001b[39m\u001b[39mthan or equal to 10 \u001b[39m\u001b[39m\"\u001b[39m\n\u001b[1;32m    360\u001b[0m         \u001b[39m\"\u001b[39m\u001b[39mto compute global feature importance over all query points\u001b[39m\u001b[39m\"\u001b[39m)\n\u001b[0;32m--> 361\u001b[0m importances \u001b[39m=\u001b[39m \u001b[39mself\u001b[39;49m\u001b[39m.\u001b[39;49mfeature_importance(\n\u001b[1;32m    362\u001b[0m     query_instances,\n\u001b[1;32m    363\u001b[0m     cf_examples_list\u001b[39m=\u001b[39;49mcf_examples_list,\n\u001b[1;32m    364\u001b[0m     total_CFs\u001b[39m=\u001b[39;49mtotal_CFs,\n\u001b[1;32m    365\u001b[0m     local_importance\u001b[39m=\u001b[39;49mlocal_importance,\n\u001b[1;32m    366\u001b[0m     global_importance\u001b[39m=\u001b[39;49m\u001b[39mTrue\u001b[39;49;00m,\n\u001b[1;32m    367\u001b[0m     desired_class\u001b[39m=\u001b[39;49mdesired_class,\n\u001b[1;32m    368\u001b[0m     desired_range\u001b[39m=\u001b[39;49mdesired_range,\n\u001b[1;32m    369\u001b[0m     permitted_range\u001b[39m=\u001b[39;49mpermitted_range,\n\u001b[1;32m    370\u001b[0m     features_to_vary\u001b[39m=\u001b[39;49mfeatures_to_vary,\n\u001b[1;32m    371\u001b[0m     stopping_threshold\u001b[39m=\u001b[39;49mstopping_threshold,\n\u001b[1;32m    372\u001b[0m     posthoc_sparsity_param\u001b[39m=\u001b[39;49mposthoc_sparsity_param,\n\u001b[1;32m    373\u001b[0m     posthoc_sparsity_algorithm\u001b[39m=\u001b[39;49mposthoc_sparsity_algorithm,\n\u001b[1;32m    374\u001b[0m     \u001b[39m*\u001b[39;49m\u001b[39m*\u001b[39;49mkwargs)\n\u001b[1;32m    375\u001b[0m \u001b[39mreturn\u001b[39;00m importances\n",
      "File \u001b[0;32m/anaconda/envs/factory-qc-blackbox/lib/python3.9/site-packages/dice_ml/explainer_interfaces/explainer_base.py:408\u001b[0m, in \u001b[0;36mExplainerBase.feature_importance\u001b[0;34m(self, query_instances, cf_examples_list, total_CFs, local_importance, global_importance, desired_class, desired_range, permitted_range, features_to_vary, stopping_threshold, posthoc_sparsity_param, posthoc_sparsity_algorithm, **kwargs)\u001b[0m\n\u001b[1;32m    397\u001b[0m \u001b[39mself\u001b[39m\u001b[39m.\u001b[39m_validate_counterfactual_configuration(\n\u001b[1;32m    398\u001b[0m     query_instances\u001b[39m=\u001b[39mquery_instances,\n\u001b[1;32m    399\u001b[0m     total_CFs\u001b[39m=\u001b[39mtotal_CFs,\n\u001b[0;32m   (...)\u001b[0m\n\u001b[1;32m    405\u001b[0m     kwargs\u001b[39m=\u001b[39mkwargs\n\u001b[1;32m    406\u001b[0m )\n\u001b[1;32m    407\u001b[0m \u001b[39mif\u001b[39;00m cf_examples_list \u001b[39mis\u001b[39;00m \u001b[39mNone\u001b[39;00m:\n\u001b[0;32m--> 408\u001b[0m     cf_examples_list \u001b[39m=\u001b[39m \u001b[39mself\u001b[39;49m\u001b[39m.\u001b[39;49mgenerate_counterfactuals(\n\u001b[1;32m    409\u001b[0m         query_instances, total_CFs,\n\u001b[1;32m    410\u001b[0m         desired_class\u001b[39m=\u001b[39;49mdesired_class,\n\u001b[1;32m    411\u001b[0m         desired_range\u001b[39m=\u001b[39;49mdesired_range,\n\u001b[1;32m    412\u001b[0m         permitted_range\u001b[39m=\u001b[39;49mpermitted_range,\n\u001b[1;32m    413\u001b[0m         features_to_vary\u001b[39m=\u001b[39;49mfeatures_to_vary,\n\u001b[1;32m    414\u001b[0m         stopping_threshold\u001b[39m=\u001b[39;49mstopping_threshold,\n\u001b[1;32m    415\u001b[0m         posthoc_sparsity_param\u001b[39m=\u001b[39;49mposthoc_sparsity_param,\n\u001b[1;32m    416\u001b[0m         posthoc_sparsity_algorithm\u001b[39m=\u001b[39;49mposthoc_sparsity_algorithm,\n\u001b[1;32m    417\u001b[0m         \u001b[39m*\u001b[39;49m\u001b[39m*\u001b[39;49mkwargs)\u001b[39m.\u001b[39mcf_examples_list\n\u001b[1;32m    418\u001b[0m allcols \u001b[39m=\u001b[39m \u001b[39mself\u001b[39m\u001b[39m.\u001b[39mdata_interface\u001b[39m.\u001b[39mcategorical_feature_names \u001b[39m+\u001b[39m \u001b[39mself\u001b[39m\u001b[39m.\u001b[39mdata_interface\u001b[39m.\u001b[39mcontinuous_feature_names\n\u001b[1;32m    419\u001b[0m summary_importance \u001b[39m=\u001b[39m \u001b[39mNone\u001b[39;00m\n",
      "File \u001b[0;32m/anaconda/envs/factory-qc-blackbox/lib/python3.9/site-packages/dice_ml/explainer_interfaces/explainer_base.py:161\u001b[0m, in \u001b[0;36mExplainerBase.generate_counterfactuals\u001b[0;34m(self, query_instances, total_CFs, desired_class, desired_range, permitted_range, features_to_vary, stopping_threshold, posthoc_sparsity_param, proximity_weight, sparsity_weight, diversity_weight, categorical_penalty, posthoc_sparsity_algorithm, verbose, **kwargs)\u001b[0m\n\u001b[1;32m    159\u001b[0m \u001b[39mfor\u001b[39;00m query_instance \u001b[39min\u001b[39;00m tqdm(query_instances_list):\n\u001b[1;32m    160\u001b[0m     \u001b[39mself\u001b[39m\u001b[39m.\u001b[39mdata_interface\u001b[39m.\u001b[39mset_continuous_feature_indexes(query_instance)\n\u001b[0;32m--> 161\u001b[0m     res \u001b[39m=\u001b[39m \u001b[39mself\u001b[39;49m\u001b[39m.\u001b[39;49m_generate_counterfactuals(\n\u001b[1;32m    162\u001b[0m         query_instance, total_CFs,\n\u001b[1;32m    163\u001b[0m         desired_class\u001b[39m=\u001b[39;49mdesired_class,\n\u001b[1;32m    164\u001b[0m         desired_range\u001b[39m=\u001b[39;49mdesired_range,\n\u001b[1;32m    165\u001b[0m         permitted_range\u001b[39m=\u001b[39;49mpermitted_range,\n\u001b[1;32m    166\u001b[0m         features_to_vary\u001b[39m=\u001b[39;49mfeatures_to_vary,\n\u001b[1;32m    167\u001b[0m         stopping_threshold\u001b[39m=\u001b[39;49mstopping_threshold,\n\u001b[1;32m    168\u001b[0m         posthoc_sparsity_param\u001b[39m=\u001b[39;49mposthoc_sparsity_param,\n\u001b[1;32m    169\u001b[0m         posthoc_sparsity_algorithm\u001b[39m=\u001b[39;49mposthoc_sparsity_algorithm,\n\u001b[1;32m    170\u001b[0m         verbose\u001b[39m=\u001b[39;49mverbose,\n\u001b[1;32m    171\u001b[0m         \u001b[39m*\u001b[39;49m\u001b[39m*\u001b[39;49mkwargs)\n\u001b[1;32m    172\u001b[0m     cf_examples_arr\u001b[39m.\u001b[39mappend(res)\n\u001b[1;32m    173\u001b[0m \u001b[39mself\u001b[39m\u001b[39m.\u001b[39m_check_any_counterfactuals_computed(cf_examples_arr\u001b[39m=\u001b[39mcf_examples_arr)\n",
      "File \u001b[0;32m/anaconda/envs/factory-qc-blackbox/lib/python3.9/site-packages/dice_ml/explainer_interfaces/dice_random.py:171\u001b[0m, in \u001b[0;36mDiceRandom._generate_counterfactuals\u001b[0;34m(self, query_instance, total_CFs, desired_range, desired_class, permitted_range, features_to_vary, stopping_threshold, posthoc_sparsity_param, posthoc_sparsity_algorithm, sample_size, random_seed, verbose, limit_steps_ls)\u001b[0m\n\u001b[1;32m    168\u001b[0m \u001b[39mif\u001b[39;00m posthoc_sparsity_param \u001b[39mis\u001b[39;00m \u001b[39mnot\u001b[39;00m \u001b[39mNone\u001b[39;00m \u001b[39mand\u001b[39;00m posthoc_sparsity_param \u001b[39m>\u001b[39m \u001b[39m0\u001b[39m \u001b[39mand\u001b[39;00m \\\n\u001b[1;32m    169\u001b[0m         \u001b[39mself\u001b[39m\u001b[39m.\u001b[39mfinal_cfs \u001b[39mis\u001b[39;00m \u001b[39mnot\u001b[39;00m \u001b[39mNone\u001b[39;00m \u001b[39mand\u001b[39;00m \u001b[39m'\u001b[39m\u001b[39mdata_df\u001b[39m\u001b[39m'\u001b[39m \u001b[39min\u001b[39;00m \u001b[39mself\u001b[39m\u001b[39m.\u001b[39mdata_interface\u001b[39m.\u001b[39m\u001b[39m__dict__\u001b[39m:\n\u001b[1;32m    170\u001b[0m     final_cfs_df_sparse \u001b[39m=\u001b[39m final_cfs_df\u001b[39m.\u001b[39mcopy()\n\u001b[0;32m--> 171\u001b[0m     final_cfs_df_sparse \u001b[39m=\u001b[39m \u001b[39mself\u001b[39;49m\u001b[39m.\u001b[39;49mdo_posthoc_sparsity_enhancement(final_cfs_df_sparse,\n\u001b[1;32m    172\u001b[0m                                                                test_instance_df,\n\u001b[1;32m    173\u001b[0m                                                                posthoc_sparsity_param,\n\u001b[1;32m    174\u001b[0m                                                                posthoc_sparsity_algorithm,\n\u001b[1;32m    175\u001b[0m                                                                limit_steps_ls)\n\u001b[1;32m    176\u001b[0m \u001b[39melif\u001b[39;00m \u001b[39mself\u001b[39m\u001b[39m.\u001b[39mfinal_cfs \u001b[39mis\u001b[39;00m \u001b[39mnot\u001b[39;00m \u001b[39mNone\u001b[39;00m:\n\u001b[1;32m    177\u001b[0m     final_cfs_df_sparse \u001b[39m=\u001b[39m final_cfs_df\u001b[39m.\u001b[39mcopy()\n",
      "File \u001b[0;32m/anaconda/envs/factory-qc-blackbox/lib/python3.9/site-packages/dice_ml/explainer_interfaces/explainer_base.py:538\u001b[0m, in \u001b[0;36mExplainerBase.do_posthoc_sparsity_enhancement\u001b[0;34m(self, final_cfs_sparse, query_instance, posthoc_sparsity_param, posthoc_sparsity_algorithm, limit_steps_ls)\u001b[0m\n\u001b[1;32m    536\u001b[0m \u001b[39mif\u001b[39;00m(\u001b[39mabs\u001b[39m(diff) \u001b[39m<\u001b[39m\u001b[39m=\u001b[39m quantiles[feature]):\n\u001b[1;32m    537\u001b[0m     \u001b[39mif\u001b[39;00m posthoc_sparsity_algorithm \u001b[39m==\u001b[39m \u001b[39m\"\u001b[39m\u001b[39mlinear\u001b[39m\u001b[39m\"\u001b[39m:\n\u001b[0;32m--> 538\u001b[0m         final_cfs_sparse \u001b[39m=\u001b[39m \u001b[39mself\u001b[39;49m\u001b[39m.\u001b[39;49mdo_linear_search(diff, decimal_prec, query_instance, cf_ix,\n\u001b[1;32m    539\u001b[0m                                                  feature, final_cfs_sparse, current_pred, limit_steps_ls)\n\u001b[1;32m    541\u001b[0m     \u001b[39melif\u001b[39;00m posthoc_sparsity_algorithm \u001b[39m==\u001b[39m \u001b[39m\"\u001b[39m\u001b[39mbinary\u001b[39m\u001b[39m\"\u001b[39m:\n\u001b[1;32m    542\u001b[0m         final_cfs_sparse \u001b[39m=\u001b[39m \u001b[39mself\u001b[39m\u001b[39m.\u001b[39mdo_binary_search(\n\u001b[1;32m    543\u001b[0m             diff, decimal_prec, query_instance, cf_ix, feature, final_cfs_sparse, current_pred)\n",
      "File \u001b[0;32m/anaconda/envs/factory-qc-blackbox/lib/python3.9/site-packages/dice_ml/explainer_interfaces/explainer_base.py:566\u001b[0m, in \u001b[0;36mExplainerBase.do_linear_search\u001b[0;34m(self, diff, decimal_prec, query_instance, cf_ix, feature, final_cfs_sparse, current_pred_orig, limit_steps_ls)\u001b[0m\n\u001b[1;32m    564\u001b[0m old_val \u001b[39m=\u001b[39m \u001b[39mint\u001b[39m(final_cfs_sparse\u001b[39m.\u001b[39mat[cf_ix, feature])\n\u001b[1;32m    565\u001b[0m final_cfs_sparse\u001b[39m.\u001b[39mat[cf_ix, feature] \u001b[39m+\u001b[39m\u001b[39m=\u001b[39m np\u001b[39m.\u001b[39msign(diff)\u001b[39m*\u001b[39mchange\n\u001b[0;32m--> 566\u001b[0m current_pred \u001b[39m=\u001b[39m \u001b[39mself\u001b[39;49m\u001b[39m.\u001b[39;49mpredict_fn_for_sparsity(final_cfs_sparse\u001b[39m.\u001b[39;49mloc[[cf_ix]][\u001b[39mself\u001b[39;49m\u001b[39m.\u001b[39;49mdata_interface\u001b[39m.\u001b[39;49mfeature_names])\n\u001b[1;32m    567\u001b[0m old_diff \u001b[39m=\u001b[39m diff\n\u001b[1;32m    569\u001b[0m \u001b[39mif\u001b[39;00m \u001b[39mnot\u001b[39;00m \u001b[39mself\u001b[39m\u001b[39m.\u001b[39mis_cf_valid(current_pred):\n",
      "File \u001b[0;32m/anaconda/envs/factory-qc-blackbox/lib/python3.9/site-packages/dice_ml/explainer_interfaces/explainer_base.py:492\u001b[0m, in \u001b[0;36mExplainerBase.predict_fn_for_sparsity\u001b[0;34m(self, input_instance)\u001b[0m\n\u001b[1;32m    490\u001b[0m \u001b[39mdef\u001b[39;00m \u001b[39mpredict_fn_for_sparsity\u001b[39m(\u001b[39mself\u001b[39m, input_instance):\n\u001b[1;32m    491\u001b[0m \u001b[39m    \u001b[39m\u001b[39m\"\"\"prediction function for sparsity correction\"\"\"\u001b[39;00m\n\u001b[0;32m--> 492\u001b[0m     \u001b[39mreturn\u001b[39;00m \u001b[39mself\u001b[39;49m\u001b[39m.\u001b[39;49mmodel\u001b[39m.\u001b[39;49mget_output(input_instance)\n",
      "File \u001b[0;32m/anaconda/envs/factory-qc-blackbox/lib/python3.9/site-packages/dice_ml/model_interfaces/base_model.py:54\u001b[0m, in \u001b[0;36mBaseModel.get_output\u001b[0;34m(self, input_instance, model_score)\u001b[0m\n\u001b[1;32m     52\u001b[0m \u001b[39mif\u001b[39;00m model_score:\n\u001b[1;32m     53\u001b[0m     \u001b[39mif\u001b[39;00m \u001b[39mself\u001b[39m\u001b[39m.\u001b[39mmodel_type \u001b[39m==\u001b[39m ModelTypes\u001b[39m.\u001b[39mClassifier:\n\u001b[0;32m---> 54\u001b[0m         \u001b[39mreturn\u001b[39;00m \u001b[39mself\u001b[39;49m\u001b[39m.\u001b[39;49mmodel\u001b[39m.\u001b[39;49mpredict_proba(input_instance)\n\u001b[1;32m     55\u001b[0m     \u001b[39melse\u001b[39;00m:\n\u001b[1;32m     56\u001b[0m         \u001b[39mreturn\u001b[39;00m \u001b[39mself\u001b[39m\u001b[39m.\u001b[39mmodel\u001b[39m.\u001b[39mpredict(input_instance)\n",
      "File \u001b[0;32m/anaconda/envs/factory-qc-blackbox/lib/python3.9/site-packages/sklearn/ensemble/_forest.py:850\u001b[0m, in \u001b[0;36mForestClassifier.predict_proba\u001b[0;34m(self, X)\u001b[0m\n\u001b[1;32m    848\u001b[0m check_is_fitted(\u001b[39mself\u001b[39m)\n\u001b[1;32m    849\u001b[0m \u001b[39m# Check data\u001b[39;00m\n\u001b[0;32m--> 850\u001b[0m X \u001b[39m=\u001b[39m \u001b[39mself\u001b[39;49m\u001b[39m.\u001b[39;49m_validate_X_predict(X)\n\u001b[1;32m    852\u001b[0m \u001b[39m# Assign chunk of trees to jobs\u001b[39;00m\n\u001b[1;32m    853\u001b[0m n_jobs, _, _ \u001b[39m=\u001b[39m _partition_estimators(\u001b[39mself\u001b[39m\u001b[39m.\u001b[39mn_estimators, \u001b[39mself\u001b[39m\u001b[39m.\u001b[39mn_jobs)\n",
      "File \u001b[0;32m/anaconda/envs/factory-qc-blackbox/lib/python3.9/site-packages/sklearn/ensemble/_forest.py:579\u001b[0m, in \u001b[0;36mBaseForest._validate_X_predict\u001b[0;34m(self, X)\u001b[0m\n\u001b[1;32m    576\u001b[0m \u001b[39m\u001b[39m\u001b[39m\"\"\"\u001b[39;00m\n\u001b[1;32m    577\u001b[0m \u001b[39mValidate X whenever one tries to predict, apply, predict_proba.\"\"\"\u001b[39;00m\n\u001b[1;32m    578\u001b[0m check_is_fitted(\u001b[39mself\u001b[39m)\n\u001b[0;32m--> 579\u001b[0m X \u001b[39m=\u001b[39m \u001b[39mself\u001b[39;49m\u001b[39m.\u001b[39;49m_validate_data(X, dtype\u001b[39m=\u001b[39;49mDTYPE, accept_sparse\u001b[39m=\u001b[39;49m\u001b[39m\"\u001b[39;49m\u001b[39mcsr\u001b[39;49m\u001b[39m\"\u001b[39;49m, reset\u001b[39m=\u001b[39;49m\u001b[39mFalse\u001b[39;49;00m)\n\u001b[1;32m    580\u001b[0m \u001b[39mif\u001b[39;00m issparse(X) \u001b[39mand\u001b[39;00m (X\u001b[39m.\u001b[39mindices\u001b[39m.\u001b[39mdtype \u001b[39m!=\u001b[39m np\u001b[39m.\u001b[39mintc \u001b[39mor\u001b[39;00m X\u001b[39m.\u001b[39mindptr\u001b[39m.\u001b[39mdtype \u001b[39m!=\u001b[39m np\u001b[39m.\u001b[39mintc):\n\u001b[1;32m    581\u001b[0m     \u001b[39mraise\u001b[39;00m \u001b[39mValueError\u001b[39;00m(\u001b[39m\"\u001b[39m\u001b[39mNo support for np.int64 index based sparse matrices\u001b[39m\u001b[39m\"\u001b[39m)\n",
      "File \u001b[0;32m/anaconda/envs/factory-qc-blackbox/lib/python3.9/site-packages/sklearn/base.py:566\u001b[0m, in \u001b[0;36mBaseEstimator._validate_data\u001b[0;34m(self, X, y, reset, validate_separately, **check_params)\u001b[0m\n\u001b[1;32m    564\u001b[0m     \u001b[39mraise\u001b[39;00m \u001b[39mValueError\u001b[39;00m(\u001b[39m\"\u001b[39m\u001b[39mValidation should be done on X, y or both.\u001b[39m\u001b[39m\"\u001b[39m)\n\u001b[1;32m    565\u001b[0m \u001b[39melif\u001b[39;00m \u001b[39mnot\u001b[39;00m no_val_X \u001b[39mand\u001b[39;00m no_val_y:\n\u001b[0;32m--> 566\u001b[0m     X \u001b[39m=\u001b[39m check_array(X, \u001b[39m*\u001b[39;49m\u001b[39m*\u001b[39;49mcheck_params)\n\u001b[1;32m    567\u001b[0m     out \u001b[39m=\u001b[39m X\n\u001b[1;32m    568\u001b[0m \u001b[39melif\u001b[39;00m no_val_X \u001b[39mand\u001b[39;00m \u001b[39mnot\u001b[39;00m no_val_y:\n",
      "File \u001b[0;32m/anaconda/envs/factory-qc-blackbox/lib/python3.9/site-packages/sklearn/utils/validation.py:617\u001b[0m, in \u001b[0;36mcheck_array\u001b[0;34m(array, accept_sparse, accept_large_sparse, dtype, order, copy, force_all_finite, ensure_2d, allow_nd, ensure_min_samples, ensure_min_features, estimator)\u001b[0m\n\u001b[1;32m    615\u001b[0m dtypes_orig \u001b[39m=\u001b[39m \u001b[39mNone\u001b[39;00m\n\u001b[1;32m    616\u001b[0m has_pd_integer_array \u001b[39m=\u001b[39m \u001b[39mFalse\u001b[39;00m\n\u001b[0;32m--> 617\u001b[0m \u001b[39mif\u001b[39;00m \u001b[39mhasattr\u001b[39;49m(array, \u001b[39m\"\u001b[39;49m\u001b[39mdtypes\u001b[39;49m\u001b[39m\"\u001b[39;49m) \u001b[39mand\u001b[39;00m \u001b[39mhasattr\u001b[39m(array\u001b[39m.\u001b[39mdtypes, \u001b[39m\"\u001b[39m\u001b[39m__array__\u001b[39m\u001b[39m\"\u001b[39m):\n\u001b[1;32m    618\u001b[0m     \u001b[39m# throw warning if columns are sparse. If all columns are sparse, then\u001b[39;00m\n\u001b[1;32m    619\u001b[0m     \u001b[39m# array.sparse exists and sparsity will be preserved (later).\u001b[39;00m\n\u001b[1;32m    620\u001b[0m     \u001b[39mwith\u001b[39;00m suppress(\u001b[39mImportError\u001b[39;00m):\n\u001b[1;32m    621\u001b[0m         \u001b[39mfrom\u001b[39;00m \u001b[39mpandas\u001b[39;00m\u001b[39m.\u001b[39;00m\u001b[39mapi\u001b[39;00m\u001b[39m.\u001b[39;00m\u001b[39mtypes\u001b[39;00m \u001b[39mimport\u001b[39;00m is_sparse\n",
      "File \u001b[0;32m/anaconda/envs/factory-qc-blackbox/lib/python3.9/site-packages/pandas/core/generic.py:6074\u001b[0m, in \u001b[0;36mNDFrame.dtypes\u001b[0;34m(self)\u001b[0m\n\u001b[1;32m   6047\u001b[0m \u001b[39m\u001b[39m\u001b[39m\"\"\"\u001b[39;00m\n\u001b[1;32m   6048\u001b[0m \u001b[39mReturn the dtypes in the DataFrame.\u001b[39;00m\n\u001b[1;32m   6049\u001b[0m \n\u001b[0;32m   (...)\u001b[0m\n\u001b[1;32m   6071\u001b[0m \u001b[39mdtype: object\u001b[39;00m\n\u001b[1;32m   6072\u001b[0m \u001b[39m\"\"\"\u001b[39;00m\n\u001b[1;32m   6073\u001b[0m data \u001b[39m=\u001b[39m \u001b[39mself\u001b[39m\u001b[39m.\u001b[39m_mgr\u001b[39m.\u001b[39mget_dtypes()\n\u001b[0;32m-> 6074\u001b[0m \u001b[39mreturn\u001b[39;00m \u001b[39mself\u001b[39;49m\u001b[39m.\u001b[39;49m_constructor_sliced(data, index\u001b[39m=\u001b[39;49m\u001b[39mself\u001b[39;49m\u001b[39m.\u001b[39;49m_info_axis, dtype\u001b[39m=\u001b[39;49mnp\u001b[39m.\u001b[39;49mobject_)\n",
      "File \u001b[0;32m/anaconda/envs/factory-qc-blackbox/lib/python3.9/site-packages/pandas/core/series.py:484\u001b[0m, in \u001b[0;36mSeries.__init__\u001b[0;34m(self, data, index, dtype, name, copy, fastpath)\u001b[0m\n\u001b[1;32m    482\u001b[0m \u001b[39melse\u001b[39;00m:\n\u001b[1;32m    483\u001b[0m     \u001b[39mself\u001b[39m\u001b[39m.\u001b[39mname \u001b[39m=\u001b[39m name\n\u001b[0;32m--> 484\u001b[0m     \u001b[39mself\u001b[39;49m\u001b[39m.\u001b[39;49m_set_axis(\u001b[39m0\u001b[39;49m, index)\n",
      "File \u001b[0;32m/anaconda/envs/factory-qc-blackbox/lib/python3.9/site-packages/pandas/core/series.py:593\u001b[0m, in \u001b[0;36mSeries._set_axis\u001b[0;34m(self, axis, labels)\u001b[0m\n\u001b[1;32m    590\u001b[0m             \u001b[39mpass\u001b[39;00m\n\u001b[1;32m    592\u001b[0m \u001b[39m# The ensure_index call above ensures we have an Index object\u001b[39;00m\n\u001b[0;32m--> 593\u001b[0m \u001b[39mself\u001b[39;49m\u001b[39m.\u001b[39;49m_mgr\u001b[39m.\u001b[39;49mset_axis(axis, labels)\n",
      "File \u001b[0;32m/anaconda/envs/factory-qc-blackbox/lib/python3.9/site-packages/pandas/core/internals/managers.py:230\u001b[0m, in \u001b[0;36mBaseBlockManager.set_axis\u001b[0;34m(self, axis, new_labels)\u001b[0m\n\u001b[1;32m    228\u001b[0m \u001b[39mdef\u001b[39;00m \u001b[39mset_axis\u001b[39m(\u001b[39mself\u001b[39m, axis: \u001b[39mint\u001b[39m, new_labels: Index) \u001b[39m-\u001b[39m\u001b[39m>\u001b[39m \u001b[39mNone\u001b[39;00m:\n\u001b[1;32m    229\u001b[0m     \u001b[39m# Caller is responsible for ensuring we have an Index object.\u001b[39;00m\n\u001b[0;32m--> 230\u001b[0m     \u001b[39mself\u001b[39;49m\u001b[39m.\u001b[39;49m_validate_set_axis(axis, new_labels)\n\u001b[1;32m    231\u001b[0m     \u001b[39mself\u001b[39m\u001b[39m.\u001b[39maxes[axis] \u001b[39m=\u001b[39m new_labels\n",
      "File \u001b[0;32m/anaconda/envs/factory-qc-blackbox/lib/python3.9/site-packages/pandas/core/internals/base.py:58\u001b[0m, in \u001b[0;36mDataManager._validate_set_axis\u001b[0;34m(self, axis, new_labels)\u001b[0m\n\u001b[1;32m     54\u001b[0m \u001b[39m@property\u001b[39m\n\u001b[1;32m     55\u001b[0m \u001b[39mdef\u001b[39;00m \u001b[39mshape\u001b[39m(\u001b[39mself\u001b[39m) \u001b[39m-\u001b[39m\u001b[39m>\u001b[39m Shape:\n\u001b[1;32m     56\u001b[0m     \u001b[39mreturn\u001b[39;00m \u001b[39mtuple\u001b[39m(\u001b[39mlen\u001b[39m(ax) \u001b[39mfor\u001b[39;00m ax \u001b[39min\u001b[39;00m \u001b[39mself\u001b[39m\u001b[39m.\u001b[39maxes)\n\u001b[0;32m---> 58\u001b[0m \u001b[39m@final\u001b[39m\n\u001b[1;32m     59\u001b[0m \u001b[39mdef\u001b[39;00m \u001b[39m_validate_set_axis\u001b[39m(\u001b[39mself\u001b[39m, axis: \u001b[39mint\u001b[39m, new_labels: Index) \u001b[39m-\u001b[39m\u001b[39m>\u001b[39m \u001b[39mNone\u001b[39;00m:\n\u001b[1;32m     60\u001b[0m     \u001b[39m# Caller is responsible for ensuring we have an Index object.\u001b[39;00m\n\u001b[1;32m     61\u001b[0m     old_len \u001b[39m=\u001b[39m \u001b[39mlen\u001b[39m(\u001b[39mself\u001b[39m\u001b[39m.\u001b[39maxes[axis])\n\u001b[1;32m     62\u001b[0m     new_len \u001b[39m=\u001b[39m \u001b[39mlen\u001b[39m(new_labels)\n",
      "\u001b[0;31mKeyboardInterrupt\u001b[0m: "
     ]
    }
   ],
   "source": [
    "rai_insights.compute()"
   ]
  },
  {
   "cell_type": "code",
   "execution_count": null,
   "metadata": {},
   "outputs": [],
   "source": [
    "ResponsibleAIDashboard(rai_insights)"
   ]
  },
  {
   "cell_type": "code",
   "execution_count": null,
   "metadata": {},
   "outputs": [],
   "source": []
  }
 ],
 "metadata": {
  "kernelspec": {
   "display_name": "factory-pm-blackbox",
   "language": "python",
   "name": "python3"
  },
  "language_info": {
   "codemirror_mode": {
    "name": "ipython",
    "version": 3
   },
   "file_extension": ".py",
   "mimetype": "text/x-python",
   "name": "python",
   "nbconvert_exporter": "python",
   "pygments_lexer": "ipython3",
   "version": "3.9.16"
  },
  "orig_nbformat": 4,
  "vscode": {
   "interpreter": {
    "hash": "67d195794ed3438e833bcd67581811fb05d0203d85a7d2264365e23941871a36"
   }
  }
 },
 "nbformat": 4,
 "nbformat_minor": 2
}
