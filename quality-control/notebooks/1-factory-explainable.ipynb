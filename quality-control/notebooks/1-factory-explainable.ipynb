{
 "cells": [
  {
   "attachments": {},
   "cell_type": "markdown",
   "metadata": {},
   "source": [
    "## Analyze quality defects using highly explainable models\n",
    "\n",
    "We will build a highly explainable model to predict quality defects using data such as sensor data collected from the manufacturing process and inspection process.\n",
    "\n",
    "After building the model, we will explain the model to understand the causes of quality defects."
   ]
  },
  {
   "attachments": {},
   "cell_type": "markdown",
   "metadata": {},
   "source": [
    "### ALgorithm to use\n",
    "- Logistic regression\n",
    "- Decision tree\n",
    "- Generalized additive model\n",
    "    - We will use Explainable Boosting Machine (EBM) as the estimation algorithm. EBM is included in [interpretml - interpret](https://github.com/interpretml/interpret)"
   ]
  },
  {
   "attachments": {},
   "cell_type": "markdown",
   "metadata": {},
   "source": [
    "### 0. Preparation\n",
    "- Jupyter Kernel :  `factoryqc-glassbox` is selected\n",
    "- IDE : VSCode or Jupyter Notebook is assumed."
   ]
  },
  {
   "attachments": {},
   "cell_type": "markdown",
   "metadata": {},
   "source": [
    "### 1. Data preparation\n",
    "Import data as Pandas DataFrame."
   ]
  },
  {
   "cell_type": "code",
   "execution_count": null,
   "metadata": {},
   "outputs": [],
   "source": [
    "import pandas as pd\n",
    "from sklearn.model_selection import train_test_split\n",
    "\n",
    "# dummy data for manufacturing process\n",
    "df = pd.read_csv(\"../data/Factory.csv\")"
   ]
  },
  {
   "cell_type": "code",
   "execution_count": null,
   "metadata": {},
   "outputs": [],
   "source": [
    "df.head()"
   ]
  },
  {
   "cell_type": "code",
   "execution_count": null,
   "metadata": {},
   "outputs": [],
   "source": [
    "from sklearn.model_selection import train_test_split\n",
    "\n",
    "# Select the features for training model\n",
    "X = df.drop(columns=[\"Quality\",\"ID\"],axis=1)\n",
    "\n",
    "# Select the target variable for training model\n",
    "y = df[\"Quality\"].values\n",
    "\n",
    "# Divide the data into training and test sets\n",
    "X_train, X_test, y_train, y_test = train_test_split(X, y, test_size=0.1, random_state=100, stratify=y)"
   ]
  },
  {
   "attachments": {},
   "cell_type": "markdown",
   "metadata": {},
   "source": [
    "### 2. Data exploration\n",
    "InterpreML has methods for visualizing data."
   ]
  },
  {
   "cell_type": "code",
   "execution_count": null,
   "metadata": {},
   "outputs": [],
   "source": [
    "from interpret import show\n",
    "from interpret.data import ClassHistogram\n",
    "\n",
    "hist = ClassHistogram().explain_data(X_train, y_train, name = 'Train Data')\n",
    "show(hist)"
   ]
  },
  {
   "attachments": {},
   "cell_type": "markdown",
   "metadata": {},
   "source": [
    "### 3. Model training using Explainable Boosting Machine (EBM)\n",
    "We will use the EBM algorithm to estimate a generalized additive model. When you want to consider interaction terms, specify the combination number or combination of column indexes with `interactions`."
   ]
  },
  {
   "cell_type": "code",
   "execution_count": null,
   "metadata": {},
   "outputs": [],
   "source": [
    "from interpret.glassbox import ExplainableBoostingClassifier, LogisticRegression, ClassificationTree, DecisionListClassifier\n",
    "seed = 1234\n",
    "ebm = ExplainableBoostingClassifier(random_state=seed, interactions=4)\n",
    "ebm.fit(X_train, y_train)"
   ]
  },
  {
   "attachments": {},
   "cell_type": "markdown",
   "metadata": {},
   "source": [
    "### 4. Model interpretation (global)\n",
    "Display a graph of the importance of the model and the contribution of each explanatory variable and interaction term to the prediction value."
   ]
  },
  {
   "cell_type": "code",
   "execution_count": null,
   "metadata": {},
   "outputs": [],
   "source": [
    "ebm_global = ebm.explain_global(name='EBM')\n",
    "show(ebm_global)"
   ]
  },
  {
   "attachments": {},
   "cell_type": "markdown",
   "metadata": {},
   "source": [
    "### 5. Model interpretation (local)\n",
    "Interpret the individual prediction values of the test data that have been calculated by the trained EBM model."
   ]
  },
  {
   "cell_type": "code",
   "execution_count": null,
   "metadata": {},
   "outputs": [],
   "source": [
    "# 例として、テストデータの冒頭 20 個のデータを対象\n",
    "ebm_local = ebm.explain_local(X_test[:20], y_test[:20], name='EBM')\n",
    "show(ebm_local)"
   ]
  },
  {
   "attachments": {},
   "cell_type": "markdown",
   "metadata": {},
   "source": [
    "### 6. Model accuracy\n",
    "Check the model accuracy using ROC."
   ]
  },
  {
   "cell_type": "code",
   "execution_count": null,
   "metadata": {},
   "outputs": [],
   "source": [
    "from interpret.perf import ROC\n",
    "\n",
    "ebm_perf = ROC(ebm.predict_proba).explain_perf(X_test, y_test, name='EBM')\n",
    "show(ebm_perf)"
   ]
  },
  {
   "attachments": {},
   "cell_type": "markdown",
   "metadata": {},
   "source": [
    "### 7. Model training using logistic regression and decision tree\n",
    "We will also train a logistic regression and decision tree model to interpret the model."
   ]
  },
  {
   "cell_type": "code",
   "execution_count": null,
   "metadata": {
    "scrolled": true
   },
   "outputs": [],
   "source": [
    "from interpret.glassbox import LogisticRegression, ClassificationTree\n",
    "\n",
    "X_enc = pd.get_dummies(X, prefix_sep='.')\n",
    "feature_names = list(X_enc.columns)\n",
    "X_train_enc, X_test_enc, y_train, y_test = train_test_split(X_enc, y, test_size=0.20, random_state=seed)\n",
    "\n",
    "lr = LogisticRegression(random_state=seed, feature_names=feature_names, penalty='l2')\n",
    "lr.fit(X_train_enc, y_train)\n",
    "\n",
    "tree = ClassificationTree()\n",
    "tree.fit(X_train_enc, y_train)"
   ]
  },
  {
   "attachments": {},
   "cell_type": "markdown",
   "metadata": {},
   "source": [
    "### 8. Model accuracy comparison on the dashboard\n",
    "Compare the accuracy of the trained model using the dashboard."
   ]
  },
  {
   "cell_type": "code",
   "execution_count": null,
   "metadata": {},
   "outputs": [],
   "source": [
    "lr_perf = ROC(lr.predict_proba).explain_perf(X_test_enc, y_test, name='Logistic Regression')\n",
    "tree_perf = ROC(tree.predict_proba).explain_perf(X_test_enc, y_test, name='Classification Tree')\n",
    "\n",
    "show(lr_perf)\n",
    "show(tree_perf)\n",
    "show(ebm_perf)"
   ]
  },
  {
   "attachments": {},
   "cell_type": "markdown",
   "metadata": {},
   "source": [
    "### 9. Comparison of model interpretation (global, local)"
   ]
  },
  {
   "cell_type": "markdown",
   "metadata": {},
   "source": [
    "#### Global Explain"
   ]
  },
  {
   "cell_type": "code",
   "execution_count": null,
   "metadata": {},
   "outputs": [],
   "source": [
    "lr_global = lr.explain_global(name='LR')\n",
    "tree_global = tree.explain_global(name='Tree')\n",
    "\n",
    "show(lr_global)\n",
    "show(tree_global)\n",
    "show(ebm_global)"
   ]
  },
  {
   "cell_type": "markdown",
   "metadata": {},
   "source": [
    "#### Local Explain"
   ]
  },
  {
   "cell_type": "code",
   "execution_count": null,
   "metadata": {},
   "outputs": [],
   "source": [
    "lr_local = lr.explain_local(X_test[:20], y_test[:20], name='LR')\n",
    "tree_local = tree.explain_local(X_test[:20], y_test[:20], name='Tree')\n",
    "\n",
    "show(lr_local)\n",
    "show(tree_local)\n",
    "show(ebm_local)"
   ]
  },
  {
   "attachments": {},
   "cell_type": "markdown",
   "metadata": {},
   "source": [
    "#### Dashboard"
   ]
  },
  {
   "cell_type": "code",
   "execution_count": null,
   "metadata": {},
   "outputs": [],
   "source": [
    "# Dashboad for comparing EBM, Logistic Regression, and Decision Tree\n",
    "show([hist, lr_global, lr_local, lr_perf, tree_global, tree_local, tree_perf, ebm_global, ebm_local, ebm_perf], share_tables=True)"
   ]
  },
  {
   "cell_type": "code",
   "execution_count": null,
   "metadata": {},
   "outputs": [],
   "source": []
  }
 ],
 "metadata": {
  "kernelspec": {
   "display_name": "fta-qc",
   "language": "python",
   "name": "python3"
  },
  "language_info": {
   "codemirror_mode": {
    "name": "ipython",
    "version": 3
   },
   "file_extension": ".py",
   "mimetype": "text/x-python",
   "name": "python",
   "nbconvert_exporter": "python",
   "pygments_lexer": "ipython3",
   "version": "3.10.9"
  },
  "vscode": {
   "interpreter": {
    "hash": "4ebe9b119537f94fa0ef9eb9fc75538db4fe04af9168c51b554cb572fc430650"
   }
  }
 },
 "nbformat": 4,
 "nbformat_minor": 4
}
